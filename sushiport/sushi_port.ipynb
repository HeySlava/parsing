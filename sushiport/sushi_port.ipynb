{
 "cells": [
  {
   "cell_type": "code",
   "execution_count": 107,
   "metadata": {},
   "outputs": [],
   "source": [
    "import pandas as pd"
   ]
  },
  {
   "cell_type": "code",
   "execution_count": 117,
   "metadata": {},
   "outputs": [],
   "source": [
    "df = pd.read_json('sushiport.json', typ='frame', orient='columns')"
   ]
  },
  {
   "cell_type": "code",
   "execution_count": 118,
   "metadata": {},
   "outputs": [],
   "source": [
    "df = df.set_index('id')"
   ]
  },
  {
   "cell_type": "code",
   "execution_count": 119,
   "metadata": {},
   "outputs": [
    {
     "data": {
      "text/html": [
       "<div>\n",
       "<style scoped>\n",
       "    .dataframe tbody tr th:only-of-type {\n",
       "        vertical-align: middle;\n",
       "    }\n",
       "\n",
       "    .dataframe tbody tr th {\n",
       "        vertical-align: top;\n",
       "    }\n",
       "\n",
       "    .dataframe thead th {\n",
       "        text-align: right;\n",
       "    }\n",
       "</style>\n",
       "<table border=\"1\" class=\"dataframe\">\n",
       "  <thead>\n",
       "    <tr style=\"text-align: right;\">\n",
       "      <th></th>\n",
       "      <th>group</th>\n",
       "      <th>subgroup</th>\n",
       "      <th>name</th>\n",
       "      <th>image</th>\n",
       "      <th>price</th>\n",
       "      <th>descr</th>\n",
       "      <th>weight</th>\n",
       "      <th>additions</th>\n",
       "    </tr>\n",
       "    <tr>\n",
       "      <th>id</th>\n",
       "      <th></th>\n",
       "      <th></th>\n",
       "      <th></th>\n",
       "      <th></th>\n",
       "      <th></th>\n",
       "      <th></th>\n",
       "      <th></th>\n",
       "      <th></th>\n",
       "    </tr>\n",
       "  </thead>\n",
       "  <tbody>\n",
       "    <tr>\n",
       "      <th>627</th>\n",
       "      <td>Ассорти</td>\n",
       "      <td>None</td>\n",
       "      <td>Ассорти Супер цена</td>\n",
       "      <td>https://sushiport.ru/tula/image/cache/data/new...</td>\n",
       "      <td>499</td>\n",
       "      <td>Ролл с огурцом и кунжутом, Калифорния</td>\n",
       "      <td>790 г</td>\n",
       "      <td>None</td>\n",
       "    </tr>\n",
       "    <tr>\n",
       "      <th>577</th>\n",
       "      <td>Десерты</td>\n",
       "      <td>None</td>\n",
       "      <td>Сливочный с шоколадной пастой</td>\n",
       "      <td>https://sushiport.ru/tula/image/cache/data/new...</td>\n",
       "      <td>149</td>\n",
       "      <td>Сладкий ролл на блинчике, со сливочным сыром, ...</td>\n",
       "      <td>140 г</td>\n",
       "      <td>None</td>\n",
       "    </tr>\n",
       "    <tr>\n",
       "      <th>620</th>\n",
       "      <td>Ассорти</td>\n",
       "      <td>None</td>\n",
       "      <td>Ассорти с угрем</td>\n",
       "      <td>https://sushiport.ru/tula/image/cache/data/new...</td>\n",
       "      <td>750</td>\n",
       "      <td>Фудзияма угорь-лоcось</td>\n",
       "      <td>None</td>\n",
       "      <td>None</td>\n",
       "    </tr>\n",
       "    <tr>\n",
       "      <th>110</th>\n",
       "      <td>Салаты, закуски</td>\n",
       "      <td>Доп ингридиенты</td>\n",
       "      <td>Чили-Терияке</td>\n",
       "      <td>https://sushiport.ru/tula/image/cache/data/sou...</td>\n",
       "      <td>29</td>\n",
       "      <td>None</td>\n",
       "      <td>70 м</td>\n",
       "      <td>None</td>\n",
       "    </tr>\n",
       "    <tr>\n",
       "      <th>694</th>\n",
       "      <td>Китайская кухня</td>\n",
       "      <td>Наполнители</td>\n",
       "      <td>Лосось</td>\n",
       "      <td>https://sushiport.ru/tula/image/cache/data/nap...</td>\n",
       "      <td>159</td>\n",
       "      <td>None</td>\n",
       "      <td>48 г</td>\n",
       "      <td>None</td>\n",
       "    </tr>\n",
       "  </tbody>\n",
       "</table>\n",
       "</div>"
      ],
      "text/plain": [
       "               group         subgroup                           name  \\\n",
       "id                                                                     \n",
       "627          Ассорти             None             Ассорти Супер цена   \n",
       "577          Десерты             None  Сливочный с шоколадной пастой   \n",
       "620          Ассорти             None                Ассорти с угрем   \n",
       "110  Салаты, закуски  Доп ингридиенты                   Чили-Терияке   \n",
       "694  Китайская кухня      Наполнители                         Лосось   \n",
       "\n",
       "                                                 image  price  \\\n",
       "id                                                              \n",
       "627  https://sushiport.ru/tula/image/cache/data/new...    499   \n",
       "577  https://sushiport.ru/tula/image/cache/data/new...    149   \n",
       "620  https://sushiport.ru/tula/image/cache/data/new...    750   \n",
       "110  https://sushiport.ru/tula/image/cache/data/sou...     29   \n",
       "694  https://sushiport.ru/tula/image/cache/data/nap...    159   \n",
       "\n",
       "                                                 descr weight additions  \n",
       "id                                                                       \n",
       "627             Ролл с огурцом и кунжутом, Калифорния   790 г      None  \n",
       "577  Сладкий ролл на блинчике, со сливочным сыром, ...  140 г      None  \n",
       "620                             Фудзияма угорь-лоcось    None      None  \n",
       "110                                               None   70 м      None  \n",
       "694                                               None   48 г      None  "
      ]
     },
     "execution_count": 119,
     "metadata": {},
     "output_type": "execute_result"
    }
   ],
   "source": [
    "df.head()"
   ]
  },
  {
   "cell_type": "code",
   "execution_count": 120,
   "metadata": {},
   "outputs": [
    {
     "data": {
      "text/plain": [
       "250 г    17\n",
       "40 м     11\n",
       "240 г     9\n",
       "500 м     6\n",
       "35 г      6\n",
       "         ..\n",
       "12 г      1\n",
       "185 г     1\n",
       "954 г     1\n",
       "250 м     1\n",
       "41 г      1\n",
       "Name: weight, Length: 76, dtype: int64"
      ]
     },
     "execution_count": 120,
     "metadata": {},
     "output_type": "execute_result"
    }
   ],
   "source": [
    "df['weight'].value_counts()"
   ]
  },
  {
   "cell_type": "code",
   "execution_count": 121,
   "metadata": {},
   "outputs": [
    {
     "data": {
      "text/plain": [
       "500 м                                                                                                                                               6\n",
       "Калифорния                                                                                                                                          3\n",
       "Угорь, лосось, сливочный сыр, огурец, соус «Унаги», кунжут                                                                                          2\n",
       "Филадельфия                                                                                                                                         2\n",
       "копченый лосось, помидоры, маслины, моцарелл                                                                                                        1\n",
       "                                                                                                                                                   ..\n",
       "Два вида сыра и лосось                                                                                                                              1\n",
       "Сладкий ролл на блинчике, со сливочным сыром, варёным сгущенным молоком и клубничным топпингом                                                      1\n",
       "Жареная курица, сливочный сыр, кунжут                                                                                                               1\n",
       "Фарш                                                                                                                                                1\n",
       "Курица жареная, грибы шиитаке, сливочный сыр, плавленый сыр, огурец, салат «Айсберг», майонез, укроп, соус «Цезарь», соус «Чили», соус «Унаги»      1\n",
       "Name: descr, Length: 122, dtype: int64"
      ]
     },
     "execution_count": 121,
     "metadata": {},
     "output_type": "execute_result"
    }
   ],
   "source": [
    "df['descr'].value_counts()"
   ]
  },
  {
   "cell_type": "code",
   "execution_count": 122,
   "metadata": {},
   "outputs": [
    {
     "data": {
      "text/plain": [
       "(173, 8)"
      ]
     },
     "execution_count": 122,
     "metadata": {},
     "output_type": "execute_result"
    }
   ],
   "source": [
    "df.shape"
   ]
  },
  {
   "cell_type": "code",
   "execution_count": 90,
   "metadata": {},
   "outputs": [],
   "source": [
    "import requests"
   ]
  },
  {
   "cell_type": "code",
   "execution_count": 97,
   "metadata": {},
   "outputs": [
    {
     "data": {
      "text/plain": [
       "404"
      ]
     },
     "execution_count": 97,
     "metadata": {},
     "output_type": "execute_result"
    }
   ],
   "source": [
    "requests.get('https://sushiport.ru/tula/image/cache/data/new%2/assorti_supercena-228x228.jpg').status_code"
   ]
  },
  {
   "cell_type": "code",
   "execution_count": null,
   "metadata": {},
   "outputs": [],
   "source": []
  }
 ],
 "metadata": {
  "kernelspec": {
   "display_name": "Python 3",
   "language": "python",
   "name": "python3"
  },
  "language_info": {
   "codemirror_mode": {
    "name": "ipython",
    "version": 3
   },
   "file_extension": ".py",
   "mimetype": "text/x-python",
   "name": "python",
   "nbconvert_exporter": "python",
   "pygments_lexer": "ipython3",
   "version": "3.8.5"
  }
 },
 "nbformat": 4,
 "nbformat_minor": 4
}
